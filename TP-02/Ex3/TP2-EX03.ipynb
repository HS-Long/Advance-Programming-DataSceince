{
 "cells": [
  {
   "cell_type": "code",
   "execution_count": 2,
   "id": "ce789a9c",
   "metadata": {},
   "outputs": [],
   "source": [
    "# 1.\tImport and configure the logging module.\n",
    "\n",
    "import logging\n",
    "\n",
    "# Configure logging\n",
    "logging.basicConfig(\n",
    "    level=logging.INFO,  # You can change to DEBUG, WARNING, ERROR, etc.\n",
    "    format=\"%(asctime)s - %(levelname)s - %(message)s\"\n",
    ")"
   ]
  },
  {
   "cell_type": "code",
   "execution_count": 3,
   "id": "68063f9e",
   "metadata": {},
   "outputs": [
    {
     "name": "stdout",
     "output_type": "stream",
     "text": [
      "Loading data...\n",
      "File loaded successfully\n"
     ]
    }
   ],
   "source": [
    "# 2.\tReplace print() with appropriate logging levels.\n",
    "\n",
    "print(\"Loading data...\")\n",
    "print(\"File loaded successfully\")"
   ]
  },
  {
   "cell_type": "code",
   "execution_count": 4,
   "id": "287b064a",
   "metadata": {},
   "outputs": [
    {
     "name": "stderr",
     "output_type": "stream",
     "text": [
      "2025-10-30 07:39:49,112 - INFO - Loading data...\n",
      "2025-10-30 07:39:49,112 - INFO - File loaded successfully\n"
     ]
    }
   ],
   "source": [
    "logging.info(\"Loading data...\")\n",
    "logging.info(\"File loaded successfully\")"
   ]
  },
  {
   "cell_type": "code",
   "execution_count": 5,
   "id": "84c2962d",
   "metadata": {},
   "outputs": [
    {
     "name": "stderr",
     "output_type": "stream",
     "text": [
      "2025-10-30 07:39:51,981 - INFO - File loaded successfully.\n"
     ]
    }
   ],
   "source": [
    "# 3.\tHandle FileNotFoundError using a try/except block.\n",
    "\n",
    "try:\n",
    "    with open(r\"C:\\Users\\User\\OneDrive\\Documents\\Intern\\Internship Project\\Data\\exportbytopcommodities.csv\") as f:\n",
    "        data = f.read()\n",
    "    logging.info(\"File loaded successfully.\")\n",
    "except FileNotFoundError as e:\n",
    "    logging.error(f\"File not found: {e}\")\n",
    "except Exception as e:\n",
    "    logging.exception(\"An unexpected error occurred.\")"
   ]
  }
 ],
 "metadata": {
  "kernelspec": {
   "display_name": "Python 3",
   "language": "python",
   "name": "python3"
  },
  "language_info": {
   "codemirror_mode": {
    "name": "ipython",
    "version": 3
   },
   "file_extension": ".py",
   "mimetype": "text/x-python",
   "name": "python",
   "nbconvert_exporter": "python",
   "pygments_lexer": "ipython3",
   "version": "3.12.8"
  }
 },
 "nbformat": 4,
 "nbformat_minor": 5
}
